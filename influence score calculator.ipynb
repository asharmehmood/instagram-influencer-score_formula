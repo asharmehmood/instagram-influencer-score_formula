{
 "cells": [
  {
   "cell_type": "code",
   "execution_count": null,
   "metadata": {},
   "outputs": [],
   "source": [
    "#There are three types of ratios, we are going to calculate to find the final rating.\n",
    "# 1. Avg # of comments to followers ratio (C-F)\n",
    "# 2. Avg # of likes to followers ratio (L-F)\n",
    "# 3. Avg # comments to Avg # of likes ratio (C-L)\n",
    "\n",
    "avg_comments = Avg no. of comments\n",
    "avg_likes = Avg no. of likes\n",
    "followers = no. of followers\n",
    "\n",
    "#Formula for C-F\n",
    "C-F = ((avg_comments*5)/followers)*4965\n",
    "L-F = ((avg_likes*4)/followers)*32\n",
    "C-L = (avg_comments/avg_likes)*3\n",
    "\n",
    "#Add these three ratios to find total score\n",
    "total_score = C-F + L-F + C-L\n",
    "\n",
    "#Find rating\n",
    "if total_score<2:\n",
    "    final_rating=1\n",
    "elif total_score==2:\n",
    "    final_rating=2\n",
    "elif total_score>=3 and total_score<=4:\n",
    "    final_rating=3\n",
    "elif total_score>=5 and total_score<=6:\n",
    "    final_rating=4\n",
    "elif total_score>=7 and total_score<=9:\n",
    "    final_rating=5\n",
    "elif total_score>=10 and total_score<=15:\n",
    "    final_rating=6\n",
    "elif total_score>=16 and total_score<=25:\n",
    "    final_rating=7\n",
    "elif total_score>=26 and total_score<=40:\n",
    "    final_rating=8\n",
    "elif total_score>=41 and total_score<=60:\n",
    "    final_rating=9\n",
    "elif total_score>60:\n",
    "    final_rating=10"
   ]
  },
  {
   "cell_type": "code",
   "execution_count": null,
   "metadata": {},
   "outputs": [],
   "source": [
    "#RESULTS ON SOME INSTA PROFILE\n",
    "# follower= 233million\n",
    "# avg_comments = 54381\n",
    "# avg_likes = 7million\n",
    "\n",
    "comments to follower:\n",
    "\n",
    "C-F=((54381*5)/233m) => 0.001167 * 4965 =5.79\n",
    "\n",
    "L-F=((7M*4)/233m) => 0.12 * 32 = 3.84\n",
    "\n",
    "C-L=(54381/7m) => 0.0078 * 3 = 0.02\n",
    "\n",
    "total_score= 10\n",
    "final_rating=6\n",
    "\n",
    "#You can see, even Ronaldo has one of highest followers but he has influence rating of 6.\n",
    "\n",
    "#Similarly, we calculate many celebrity rating, some of them are here:\n",
    "# Tom Cruise : 9\n",
    "# Shah rukh khan : 7\n",
    "# Shruti hasan : 2\n",
    "# Virat kohli : 6\n",
    "# Shahid Afridi : 7\n"
   ]
  }
 ],
 "metadata": {
  "kernelspec": {
   "display_name": "Python 3",
   "language": "python",
   "name": "python3"
  },
  "language_info": {
   "codemirror_mode": {
    "name": "ipython",
    "version": 3
   },
   "file_extension": ".py",
   "mimetype": "text/x-python",
   "name": "python",
   "nbconvert_exporter": "python",
   "pygments_lexer": "ipython3",
   "version": "3.6.9"
  }
 },
 "nbformat": 4,
 "nbformat_minor": 4
}
